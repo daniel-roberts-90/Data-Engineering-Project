{
 "cells": [
  {
   "cell_type": "code",
   "execution_count": 1,
   "id": "9882d355",
   "metadata": {},
   "outputs": [],
   "source": [
    "import psycopg2\n",
    "import pandas as pd"
   ]
  },
  {
   "cell_type": "code",
   "execution_count": 2,
   "id": "93f7c5d2",
   "metadata": {},
   "outputs": [],
   "source": [
    "def create_database():\n",
    "    # connect to default database\n",
    "    # conn = psycopg2.connect(\"host=127.0.0.1 dbname=studentdb user=student password=student\")\n",
    "    conn = psycopg2.connect(\"host=127.0.0.1 dbname=postgres user=postgres password=Saylor!\")\n",
    "    conn.set_session(autocommit=True)\n",
    "    cur = conn.cursor()\n",
    "    \n",
    "    # create sparkify database with UTF8 encoding\n",
    "    cur.execute(\"DROP DATABASE accounts\")\n",
    "    cur.execute(\"CREATE DATABASE accounts\")\n",
    "    \n",
    "    # close connection to default database\n",
    "    conn.close()\n",
    "\n",
    "    # connect to sparkify database\n",
    "    conn = psycopg2.connect(\"host=127.0.0.1 dbname=accounts user=postgres password=Saylor!\")\n",
    "    cur = conn.cursor()\n",
    "    \n",
    "    return conn, cur"
   ]
  },
  {
   "cell_type": "code",
   "execution_count": 3,
   "id": "22f5e4b7",
   "metadata": {},
   "outputs": [],
   "source": [
    "def drop_tables(cur, conn):\n",
    "    for query in drop_table_queries:\n",
    "        cur.execute(query)\n",
    "        conn.commit()"
   ]
  },
  {
   "cell_type": "code",
   "execution_count": 4,
   "id": "fc7fdc68",
   "metadata": {},
   "outputs": [],
   "source": [
    "def create_table(cur, conn):\n",
    "    for query in create_table_queries:\n",
    "        cur.execute(query)\n",
    "        conn.commit()"
   ]
  },
  {
   "cell_type": "code",
   "execution_count": 5,
   "id": "d872a75a",
   "metadata": {},
   "outputs": [],
   "source": [
    "pres_birth_csv = pd.read_csv(\"US-Presidents-Birth.csv\")"
   ]
  },
  {
   "cell_type": "code",
   "execution_count": 6,
   "id": "1f0a92e8",
   "metadata": {},
   "outputs": [
    {
     "data": {
      "text/html": [
       "<div>\n",
       "<style scoped>\n",
       "    .dataframe tbody tr th:only-of-type {\n",
       "        vertical-align: middle;\n",
       "    }\n",
       "\n",
       "    .dataframe tbody tr th {\n",
       "        vertical-align: top;\n",
       "    }\n",
       "\n",
       "    .dataframe thead th {\n",
       "        text-align: right;\n",
       "    }\n",
       "</style>\n",
       "<table border=\"1\" class=\"dataframe\">\n",
       "  <thead>\n",
       "    <tr style=\"text-align: right;\">\n",
       "      <th></th>\n",
       "      <th>ID</th>\n",
       "      <th>President</th>\n",
       "      <th>Born</th>\n",
       "      <th>Died</th>\n",
       "      <th>Age</th>\n",
       "    </tr>\n",
       "  </thead>\n",
       "  <tbody>\n",
       "    <tr>\n",
       "      <th>0</th>\n",
       "      <td>1</td>\n",
       "      <td>George Washington</td>\n",
       "      <td>2/22/1840</td>\n",
       "      <td>9/27/1904</td>\n",
       "      <td>67 years, 295 days</td>\n",
       "    </tr>\n",
       "    <tr>\n",
       "      <th>1</th>\n",
       "      <td>2</td>\n",
       "      <td>John Adams</td>\n",
       "      <td>10/30/1840</td>\n",
       "      <td>9/30/1904</td>\n",
       "      <td>90 years, 247 days</td>\n",
       "    </tr>\n",
       "    <tr>\n",
       "      <th>2</th>\n",
       "      <td>3</td>\n",
       "      <td>Thomas Jefferson</td>\n",
       "      <td>4/13/1840</td>\n",
       "      <td>10/8/1904</td>\n",
       "      <td>83 years, 82 days</td>\n",
       "    </tr>\n",
       "    <tr>\n",
       "      <th>3</th>\n",
       "      <td>4</td>\n",
       "      <td>James Madison</td>\n",
       "      <td>3/16/1840</td>\n",
       "      <td>10/16/1904</td>\n",
       "      <td>85 years, 104 days</td>\n",
       "    </tr>\n",
       "    <tr>\n",
       "      <th>4</th>\n",
       "      <td>5</td>\n",
       "      <td>James Monroe</td>\n",
       "      <td>4/28/1840</td>\n",
       "      <td>10/23/1904</td>\n",
       "      <td>73 years, 67 days</td>\n",
       "    </tr>\n",
       "  </tbody>\n",
       "</table>\n",
       "</div>"
      ],
      "text/plain": [
       "   ID          President        Born        Died                 Age\n",
       "0   1  George Washington   2/22/1840   9/27/1904  67 years, 295 days\n",
       "1   2         John Adams  10/30/1840   9/30/1904  90 years, 247 days\n",
       "2   3   Thomas Jefferson   4/13/1840   10/8/1904   83 years, 82 days\n",
       "3   4      James Madison   3/16/1840  10/16/1904  85 years, 104 days\n",
       "4   5       James Monroe   4/28/1840  10/23/1904   73 years, 67 days"
      ]
     },
     "execution_count": 6,
     "metadata": {},
     "output_type": "execute_result"
    }
   ],
   "source": [
    "pres_birth_csv.head()"
   ]
  },
  {
   "cell_type": "code",
   "execution_count": 7,
   "id": "dd46b2c4",
   "metadata": {},
   "outputs": [],
   "source": [
    "pres_personal_csv = pd.read_csv(\"US-Presidents-Personal.csv\")"
   ]
  },
  {
   "cell_type": "code",
   "execution_count": 8,
   "id": "26a7455f",
   "metadata": {},
   "outputs": [
    {
     "data": {
      "text/html": [
       "<div>\n",
       "<style scoped>\n",
       "    .dataframe tbody tr th:only-of-type {\n",
       "        vertical-align: middle;\n",
       "    }\n",
       "\n",
       "    .dataframe tbody tr th {\n",
       "        vertical-align: top;\n",
       "    }\n",
       "\n",
       "    .dataframe thead th {\n",
       "        text-align: right;\n",
       "    }\n",
       "</style>\n",
       "<table border=\"1\" class=\"dataframe\">\n",
       "  <thead>\n",
       "    <tr style=\"text-align: right;\">\n",
       "      <th></th>\n",
       "      <th>ID</th>\n",
       "      <th>President</th>\n",
       "      <th>Number of kids</th>\n",
       "      <th>Number of marriages</th>\n",
       "      <th>State</th>\n",
       "      <th>Education</th>\n",
       "      <th>Degree</th>\n",
       "    </tr>\n",
       "  </thead>\n",
       "  <tbody>\n",
       "    <tr>\n",
       "      <th>0</th>\n",
       "      <td>1</td>\n",
       "      <td>George Washington</td>\n",
       "      <td>0</td>\n",
       "      <td>1</td>\n",
       "      <td>Virginia</td>\n",
       "      <td>No formal education</td>\n",
       "      <td>NaN</td>\n",
       "    </tr>\n",
       "    <tr>\n",
       "      <th>1</th>\n",
       "      <td>2</td>\n",
       "      <td>John Adams</td>\n",
       "      <td>5</td>\n",
       "      <td>1</td>\n",
       "      <td>Massachusetts</td>\n",
       "      <td>Harvard College (graduated in 1755)</td>\n",
       "      <td>A.B.</td>\n",
       "    </tr>\n",
       "    <tr>\n",
       "      <th>2</th>\n",
       "      <td>3</td>\n",
       "      <td>Thomas Jefferson</td>\n",
       "      <td>6</td>\n",
       "      <td>1</td>\n",
       "      <td>Virginia</td>\n",
       "      <td>The College of William &amp; Mary (graduated in 1762)</td>\n",
       "      <td>B.A.</td>\n",
       "    </tr>\n",
       "    <tr>\n",
       "      <th>3</th>\n",
       "      <td>4</td>\n",
       "      <td>James Madison</td>\n",
       "      <td>0</td>\n",
       "      <td>1</td>\n",
       "      <td>Virginia</td>\n",
       "      <td>The College of New Jersey (now Princeton Unive...</td>\n",
       "      <td>B.A.</td>\n",
       "    </tr>\n",
       "    <tr>\n",
       "      <th>4</th>\n",
       "      <td>5</td>\n",
       "      <td>James Monroe</td>\n",
       "      <td>3</td>\n",
       "      <td>1</td>\n",
       "      <td>Virginia</td>\n",
       "      <td>The College of William &amp; Mary (did not graduate)</td>\n",
       "      <td>NaN</td>\n",
       "    </tr>\n",
       "  </tbody>\n",
       "</table>\n",
       "</div>"
      ],
      "text/plain": [
       "   ID          President  Number of kids  Number of marriages          State  \\\n",
       "0   1  George Washington               0                    1       Virginia   \n",
       "1   2         John Adams               5                    1  Massachusetts   \n",
       "2   3   Thomas Jefferson               6                    1       Virginia   \n",
       "3   4      James Madison               0                    1       Virginia   \n",
       "4   5       James Monroe               3                    1       Virginia   \n",
       "\n",
       "                                           Education Degree  \n",
       "0                                No formal education    NaN  \n",
       "1                Harvard College (graduated in 1755)   A.B.  \n",
       "2  The College of William & Mary (graduated in 1762)   B.A.  \n",
       "3  The College of New Jersey (now Princeton Unive...   B.A.  \n",
       "4   The College of William & Mary (did not graduate)    NaN  "
      ]
     },
     "execution_count": 8,
     "metadata": {},
     "output_type": "execute_result"
    }
   ],
   "source": [
    "pres_personal_csv.head()"
   ]
  },
  {
   "cell_type": "code",
   "execution_count": 9,
   "id": "e452e04c",
   "metadata": {},
   "outputs": [],
   "source": [
    "pres_presidency_csv = pd.read_csv(\"US-Presidents-Presidency.csv\")"
   ]
  },
  {
   "cell_type": "code",
   "execution_count": 10,
   "id": "13142734",
   "metadata": {},
   "outputs": [
    {
     "data": {
      "text/html": [
       "<div>\n",
       "<style scoped>\n",
       "    .dataframe tbody tr th:only-of-type {\n",
       "        vertical-align: middle;\n",
       "    }\n",
       "\n",
       "    .dataframe tbody tr th {\n",
       "        vertical-align: top;\n",
       "    }\n",
       "\n",
       "    .dataframe thead th {\n",
       "        text-align: right;\n",
       "    }\n",
       "</style>\n",
       "<table border=\"1\" class=\"dataframe\">\n",
       "  <thead>\n",
       "    <tr style=\"text-align: right;\">\n",
       "      <th></th>\n",
       "      <th>ID</th>\n",
       "      <th>President</th>\n",
       "      <th>start of presidency</th>\n",
       "      <th>end of presidency</th>\n",
       "      <th>Net worth(millions)</th>\n",
       "      <th>Political party</th>\n",
       "      <th>Years in office</th>\n",
       "    </tr>\n",
       "  </thead>\n",
       "  <tbody>\n",
       "    <tr>\n",
       "      <th>0</th>\n",
       "      <td>1</td>\n",
       "      <td>George Washington</td>\n",
       "      <td>57 years, 67 days</td>\n",
       "      <td>65 years, 10 days</td>\n",
       "      <td>707</td>\n",
       "      <td>None/Independent</td>\n",
       "      <td>1789–1797</td>\n",
       "    </tr>\n",
       "    <tr>\n",
       "      <th>1</th>\n",
       "      <td>2</td>\n",
       "      <td>John Adams</td>\n",
       "      <td>61 years, 125 days</td>\n",
       "      <td>65 years, 125 days</td>\n",
       "      <td>25</td>\n",
       "      <td>Federalist</td>\n",
       "      <td>1797–1801</td>\n",
       "    </tr>\n",
       "    <tr>\n",
       "      <th>2</th>\n",
       "      <td>3</td>\n",
       "      <td>Thomas Jefferson</td>\n",
       "      <td>57 years, 325 days</td>\n",
       "      <td>65 years, 325 days</td>\n",
       "      <td>284</td>\n",
       "      <td>Democratic-Republican</td>\n",
       "      <td>1801–1809</td>\n",
       "    </tr>\n",
       "    <tr>\n",
       "      <th>3</th>\n",
       "      <td>4</td>\n",
       "      <td>James Madison</td>\n",
       "      <td>57 years, 353 days</td>\n",
       "      <td>65 years, 353 days</td>\n",
       "      <td>136</td>\n",
       "      <td>Democratic-Republican</td>\n",
       "      <td>1809–1817</td>\n",
       "    </tr>\n",
       "    <tr>\n",
       "      <th>4</th>\n",
       "      <td>5</td>\n",
       "      <td>James Monroe</td>\n",
       "      <td>58 years, 310 days</td>\n",
       "      <td>66 years, 310 days</td>\n",
       "      <td>36</td>\n",
       "      <td>Democratic-Republican</td>\n",
       "      <td>1817–1825</td>\n",
       "    </tr>\n",
       "  </tbody>\n",
       "</table>\n",
       "</div>"
      ],
      "text/plain": [
       "   ID          President start of presidency   end of presidency  \\\n",
       "0   1  George Washington   57 years, 67 days   65 years, 10 days   \n",
       "1   2         John Adams  61 years, 125 days  65 years, 125 days   \n",
       "2   3   Thomas Jefferson  57 years, 325 days  65 years, 325 days   \n",
       "3   4      James Madison  57 years, 353 days  65 years, 353 days   \n",
       "4   5       James Monroe  58 years, 310 days  66 years, 310 days   \n",
       "\n",
       "  Net worth(millions)        Political party Years in office  \n",
       "0                 707       None/Independent       1789–1797  \n",
       "1                  25             Federalist       1797–1801  \n",
       "2                 284  Democratic-Republican       1801–1809  \n",
       "3                 136  Democratic-Republican       1809–1817  \n",
       "4                  36  Democratic-Republican       1817–1825  "
      ]
     },
     "execution_count": 10,
     "metadata": {},
     "output_type": "execute_result"
    }
   ],
   "source": [
    "pres_presidency_csv.head()"
   ]
  },
  {
   "cell_type": "code",
   "execution_count": 11,
   "id": "054dc439",
   "metadata": {},
   "outputs": [],
   "source": [
    "conn, cur = create_database()"
   ]
  },
  {
   "cell_type": "code",
   "execution_count": 12,
   "id": "ad915708",
   "metadata": {},
   "outputs": [],
   "source": [
    "create_table_query1 = (\"\"\"\n",
    "CREATE TABLE IF NOT EXISTS pres_birth (\n",
    "    ID INT PRIMARY KEY,\n",
    "    President VARCHAR,\n",
    "    Born VARCHAR,\n",
    "    Died VARCHAR,\n",
    "    Age VARCHAR\n",
    "    )\n",
    "    \"\"\")"
   ]
  },
  {
   "cell_type": "code",
   "execution_count": 13,
   "id": "fa736d18",
   "metadata": {},
   "outputs": [],
   "source": [
    "cur.execute(create_table_query1)\n",
    "conn.commit()"
   ]
  },
  {
   "cell_type": "code",
   "execution_count": 14,
   "id": "7d256f71",
   "metadata": {},
   "outputs": [],
   "source": [
    "create_table_query2 = (\"\"\"\n",
    "CREATE TABLE IF NOT EXISTS pres_personal (\n",
    "    ID INT PRIMARY KEY,\n",
    "    President VARCHAR,\n",
    "    Number_of_kids INT,\n",
    "    Number_of_marriages INT,\n",
    "    State VARCHAR,\n",
    "    Education VARCHAR(255),\n",
    "    Degree VARCHAR\n",
    "    )\n",
    "    \"\"\")"
   ]
  },
  {
   "cell_type": "code",
   "execution_count": 15,
   "id": "0ad15cb5",
   "metadata": {},
   "outputs": [],
   "source": [
    "cur.execute(create_table_query2)\n",
    "conn.commit()"
   ]
  },
  {
   "cell_type": "code",
   "execution_count": 16,
   "id": "bd21f95f",
   "metadata": {},
   "outputs": [],
   "source": [
    "create_table_query3 = (\"\"\"\n",
    "CREATE TABLE IF NOT EXISTS pres_presidency (\n",
    "    ID INT PRIMARY KEY,\n",
    "    President VARCHAR,\n",
    "    start_of_presidency VARCHAR,\n",
    "    end_of_presidency VARCHAR,\n",
    "    Net_worth VARCHAR,\n",
    "    Politcal_party VARCHAR,\n",
    "    Years_in_office VARCHAR\n",
    "    )\n",
    "    \"\"\")"
   ]
  },
  {
   "cell_type": "code",
   "execution_count": 17,
   "id": "5629dadd",
   "metadata": {
    "scrolled": true
   },
   "outputs": [],
   "source": [
    "cur.execute(create_table_query3)\n",
    "conn.commit()"
   ]
  },
  {
   "cell_type": "code",
   "execution_count": 18,
   "id": "0bf409f3",
   "metadata": {},
   "outputs": [],
   "source": [
    "pres_birth_insert = (\"\"\"\n",
    "INSERT INTO pres_birth(\n",
    "    ID,\n",
    "    President,\n",
    "    Born,\n",
    "    Died,\n",
    "    Age)\n",
    "    VALUES (%s, %s, %s, %s, %s)\n",
    "    \"\"\")"
   ]
  },
  {
   "cell_type": "code",
   "execution_count": 19,
   "id": "fe63bf7f",
   "metadata": {
    "scrolled": true
   },
   "outputs": [],
   "source": [
    "for i, row in pres_birth_csv.iterrows():\n",
    "    cur.execute(pres_birth_insert, list(row))\n"
   ]
  },
  {
   "cell_type": "code",
   "execution_count": 20,
   "id": "9d0f5f58",
   "metadata": {},
   "outputs": [],
   "source": [
    "conn.commit()"
   ]
  },
  {
   "cell_type": "code",
   "execution_count": 21,
   "id": "3bf255ef",
   "metadata": {},
   "outputs": [],
   "source": [
    "pres_personal_insert = (\"\"\"\n",
    "INSERT INTO pres_personal(\n",
    "    ID,\n",
    "    President,\n",
    "    Number_of_kids,\n",
    "    Number_of_marriages,\n",
    "    State,\n",
    "    Education,\n",
    "    Degree)\n",
    "    VALUES (%s, %s, %s, %s, %s, %s, %s)\n",
    "    \"\"\")"
   ]
  },
  {
   "cell_type": "code",
   "execution_count": 22,
   "id": "19e113bb",
   "metadata": {},
   "outputs": [],
   "source": [
    "for i, row in pres_personal_csv.iterrows():\n",
    "    cur.execute(pres_personal_insert, list(row))"
   ]
  },
  {
   "cell_type": "code",
   "execution_count": 23,
   "id": "2688a39b",
   "metadata": {},
   "outputs": [],
   "source": [
    "conn.commit()"
   ]
  },
  {
   "cell_type": "code",
   "execution_count": 24,
   "id": "8cff68fb",
   "metadata": {},
   "outputs": [],
   "source": [
    "pres_presidency_insert = (\"\"\"\n",
    "INSERT INTO pres_presidency(\n",
    "    ID,\n",
    "    President,\n",
    "    start_of_presidency,\n",
    "    end_of_presidency,\n",
    "    Net_worth,\n",
    "    Politcal_party,\n",
    "    Years_in_office\n",
    "    )\n",
    "    VALUES (%s, %s, %s, %s, %s, %s, %s)\n",
    "    \"\"\")"
   ]
  },
  {
   "cell_type": "code",
   "execution_count": 25,
   "id": "181f112f",
   "metadata": {},
   "outputs": [],
   "source": [
    "for i, row in pres_presidency_csv.iterrows():\n",
    "    cur.execute(pres_presidency_insert, list(row))"
   ]
  },
  {
   "cell_type": "code",
   "execution_count": 26,
   "id": "fe3b9381",
   "metadata": {},
   "outputs": [],
   "source": [
    "conn.commit()"
   ]
  },
  {
   "cell_type": "code",
   "execution_count": null,
   "id": "c0180c8d",
   "metadata": {},
   "outputs": [],
   "source": []
  }
 ],
 "metadata": {
  "kernelspec": {
   "display_name": "Python 3 (ipykernel)",
   "language": "python",
   "name": "python3"
  },
  "language_info": {
   "codemirror_mode": {
    "name": "ipython",
    "version": 3
   },
   "file_extension": ".py",
   "mimetype": "text/x-python",
   "name": "python",
   "nbconvert_exporter": "python",
   "pygments_lexer": "ipython3",
   "version": "3.11.4"
  }
 },
 "nbformat": 4,
 "nbformat_minor": 5
}
